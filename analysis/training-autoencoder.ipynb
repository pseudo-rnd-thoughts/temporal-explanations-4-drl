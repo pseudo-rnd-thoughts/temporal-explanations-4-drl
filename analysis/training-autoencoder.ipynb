{
 "cells": [
  {
   "cell_type": "markdown",
   "source": [
    "# Train / Test errors for the autoencoder"
   ],
   "metadata": {
    "collapsed": false
   }
  },
  {
   "cell_type": "code",
   "execution_count": null,
   "outputs": [],
   "source": [
    "%load_ext autoreload\n",
    "%autoreload 2"
   ],
   "metadata": {
    "collapsed": false
   }
  },
  {
   "cell_type": "code",
   "execution_count": null,
   "outputs": [],
   "source": [
    "import numpy as onp\n",
    "import os\n",
    "import math\n",
    "\n",
    "import matplotlib.pyplot as plt\n",
    "from temporal_explanations_4_rl.autoencoder import AtariAutoencoder\n",
    "\n",
    "from temporal_explanations_4_rl.plot import plot_embedding\n",
    "from temporal_explanations_4_rl.utils import load_embedding\n",
    "from temporal_explanations_4_rl.dataset import (\n",
    "    load_atari_obs,\n",
    "    load_state_values,\n",
    "    load_trajectories,\n",
    ")\n",
    "\n",
    "from ipywidgets import HTML\n",
    "from matplotlib.animation import FuncAnimation"
   ],
   "metadata": {
    "collapsed": false
   }
  },
  {
   "cell_type": "markdown",
   "source": [
    "## hyperparameters"
   ],
   "metadata": {
    "collapsed": false
   }
  },
  {
   "cell_type": "code",
   "execution_count": null,
   "outputs": [],
   "source": [
    "root_dataset_folder = \"../datasets/\"\n",
    "\n",
    "num_cols = 3\n",
    "fig_width = 12\n",
    "sub_axes_height = 3"
   ],
   "metadata": {
    "collapsed": false
   }
  },
  {
   "cell_type": "markdown",
   "source": [
    "## Plot the training with observation error\n",
    "\n",
    "Plot the training error with mean squared error"
   ],
   "metadata": {
    "collapsed": false
   }
  },
  {
   "cell_type": "code",
   "execution_count": null,
   "outputs": [],
   "source": [
    "directories = sorted(\n",
    "    [\n",
    "        directory\n",
    "        for directory in os.listdir(f\"{root_dataset_folder}/training\")\n",
    "        if os.path.exists(\n",
    "            f\"{root_dataset_folder}/training/{directory}/autoencoder-obs-model-embedding.npz\"\n",
    "        )\n",
    "    ]\n",
    ")\n",
    "assert len(directories) > 0\n",
    "num_rows = math.ceil(len(directories) / num_cols)\n",
    "fig, axs = plt.subplots(\n",
    "    nrows=num_rows, ncols=num_cols, figsize=(fig_width, num_rows * sub_axes_height)\n",
    ")\n",
    "for ax, directory in zip(axs.flatten(), directories):\n",
    "    agent_name, env_name = directory.split(\"-\")\n",
    "\n",
    "    with onp.load(\n",
    "        f\"{root_dataset_folder}/training/{directory}/autoencoder-obs-model-embedding.npz\",\n",
    "        allow_pickle=True,\n",
    "    ) as file:\n",
    "        metadata = file[\"metadata\"].item()\n",
    "\n",
    "        ax.set_title(f\"{agent_name} - {env_name}\")\n",
    "        clip_value = onp.max(metadata[\"testing loss\"]) * 1.1\n",
    "        ax.plot(\n",
    "            onp.arange(10_000),\n",
    "            onp.clip(metadata[\"training loss\"], 0, clip_value),\n",
    "            label=\"Training loss\",\n",
    "        )\n",
    "        ax.plot(\n",
    "            onp.arange(500, 10_001, 500),\n",
    "            metadata[\"testing loss\"],\n",
    "            label=\"Testing loss\",\n",
    "            linestyle=\"dashed\",\n",
    "        )\n",
    "\n",
    "axs[-1, -1].legend()\n",
    "plt.tight_layout()\n",
    "plt.savefig(f\"figs/autoencoder-obs-training.png\")"
   ],
   "metadata": {
    "collapsed": false
   }
  },
  {
   "cell_type": "markdown",
   "source": [
    "## Compare Atari Observation error to Policy error\n",
    "\n",
    "Load a testing trajectory of a network with figure 1 having the correct obs, fig 2 having the obs error reconstruction, fig 3 having the policy error reconstruction"
   ],
   "metadata": {
    "collapsed": false
   }
  },
  {
   "cell_type": "code",
   "execution_count": null,
   "outputs": [],
   "source": [
    "agent_name = \"dqn_adam_mse\"  # change here\n",
    "env_name = \"Pong\"  # change here\n",
    "\n",
    "trajectory_slice = slice(1000, 1200)"
   ],
   "metadata": {
    "collapsed": false
   }
  },
  {
   "cell_type": "code",
   "execution_count": null,
   "outputs": [],
   "source": [
    "assert os.path.exists(\n",
    "    f\"{root_dataset_folder}/testing/{agent_name}-{env_name}/autoencoder-obs-embedding.npz\"\n",
    ")\n",
    "# assert os.path.exists(\n",
    "#     f\"{root_dataset_folder}/testing/{agent_name}-{env_name}/autoencoder-policy-embedding.npz\"\n",
    "# )\n",
    "\n",
    "trajectory_obs = load_atari_obs(\n",
    "    f\"{root_dataset_folder}/testing/{agent_name}-{env_name}/trajectories\"\n",
    ")[trajectory_slice]\n",
    "\n",
    "autoencoder_obs_model = AtariAutoencoder()\n",
    "autoencoder_obs_model.load_weights(\n",
    "    f\"{root_dataset_folder}/training/{agent_name}-{env_name}/autoencoder-obs-model\"\n",
    ")\n",
    "# autoencoder_policy_model = AtariAutoencoder()\n",
    "# autoencoder_policy_model.load_weights(\n",
    "#     f\"{root_dataset_folder}/training/{agent_name}-{env_name}/autoencoder-policy-model\"\n",
    "# )\n",
    "\n",
    "obs_reconstructed_obs = autoencoder_obs_model(trajectory_obs)\n",
    "# policy_reconstructed_obs = autoencoder_policy_model(trajectory_obs)\n",
    "assert (\n",
    "    trajectory_obs.shape\n",
    "    == obs_reconstructed_obs.shape\n",
    "    # == policy_reconstructed_obs.shape\n",
    ")\n",
    "\n",
    "# fig, axs = plt.subplots(ncols=3, figsize=(4, 8))\n",
    "fig, axs = plt.subplots(ncols=2, figsize=(4, 8))\n",
    "axs[0].set_title(\"True Obs\")\n",
    "axs[1].set_title(\"Reconstructed Obs Error\")\n",
    "# axs[2].set_title(\"Reconstructed Policy Error\")\n",
    "\n",
    "true_plot = axs[0].imshow(trajectory_obs[0, :, :, -1], cmap=\"gray\")\n",
    "obs_plot = axs[1].imshow(obs_reconstructed_obs[0, :, :, -1], cmap=\"gray\")\n",
    "# policy_plot = axs[2].imshow(policy_reconstructed_obs[0, :, :, -1], cmap='gray')\n",
    "\n",
    "\n",
    "def make_frame(t):\n",
    "    \"\"\"Make a frame for time step `t`.\"\"\"\n",
    "    true_plot.set_data(trajectory_obs[t, :, :, -1])\n",
    "    obs_plot.set_data(obs_reconstructed_obs[t, :, :, -1])\n",
    "    # policy_plot.set_data(policy_reconstructed_obs[t, :, :, -1])\n",
    "\n",
    "    return [true_plot, obs_plot]  # , policy_plot\n",
    "\n",
    "\n",
    "animation_fn = FuncAnimation(\n",
    "    fig, make_frame, frames=trajectory_obs.shape[0], interval=100\n",
    ")\n",
    "\n",
    "HTML(animation_fn.to_html5_video())"
   ],
   "metadata": {
    "collapsed": false
   }
  },
  {
   "cell_type": "markdown",
   "source": [
    "## Visualise embedding"
   ],
   "metadata": {
    "collapsed": false
   }
  },
  {
   "cell_type": "code",
   "execution_count": null,
   "outputs": [],
   "source": [
    "dataset_path = f\"{root_dataset_folder}/training/{agent_name}-{env_name}\"\n",
    "\n",
    "autoencoder_obs_tsne = load_embedding(f\"{dataset_path}/autoencoder-obs-tsne.npz\")\n",
    "state_values = load_state_values(f\"{dataset_path}/trajectories\")\n",
    "trajectories = load_trajectories(f\"{dataset_path}/trajectories\")\n",
    "\n",
    "plot_embedding(\n",
    "    autoencoder_obs_tsne,\n",
    "    state_values,\n",
    "    trajectories,\n",
    "    title=\"t-SNE visualisation of the autoencoder obs-error embedding\",\n",
    ")\n",
    "plt.savefig(f\"{dataset_path}/autoencoder-obs-visualise.png\")"
   ],
   "metadata": {
    "collapsed": false
   }
  },
  {
   "cell_type": "code",
   "execution_count": null,
   "outputs": [],
   "source": [
    "# if not os.path.exists(f\"{dataset_path}/autoencoder-policy-tsne.npz\"):\n",
    "#     autoencoder_policy_embedding = load_embedding(\n",
    "#         f\"{dataset_path}/autoencoder-policy-embedding.npz\"\n",
    "#     )\n",
    "#     run_tsne(\n",
    "#         autoencoder_policy_embedding,\n",
    "#         save_path=f\"{dataset_path}/autoencoder-policy-tsne.npz\",\n",
    "#     )\n",
    "#\n",
    "# autoencoder_policy_tsne = load_embedding(f\"{dataset_path}/autoencoder-policy-tsne.npz\")"
   ],
   "metadata": {
    "collapsed": false
   }
  },
  {
   "cell_type": "code",
   "execution_count": null,
   "outputs": [],
   "source": [
    "# plot_embedding(\n",
    "#     autoencoder_policy_tsne,\n",
    "#     state_values,\n",
    "#     trajectories,\n",
    "#     title=\"t-SNE visualisation of the autoencoder policy-error embedding\",\n",
    "# )\n",
    "# plt.savefig(f\"{dataset_path}/autoencoder-policy-visualise.png\")"
   ],
   "metadata": {
    "collapsed": false
   }
  }
 ],
 "metadata": {
  "kernelspec": {
   "display_name": "Python 3",
   "language": "python",
   "name": "python3"
  },
  "language_info": {
   "codemirror_mode": {
    "name": "ipython",
    "version": 2
   },
   "file_extension": ".py",
   "mimetype": "text/x-python",
   "name": "python",
   "nbconvert_exporter": "python",
   "pygments_lexer": "ipython2",
   "version": "2.7.6"
  }
 },
 "nbformat": 4,
 "nbformat_minor": 0
}
